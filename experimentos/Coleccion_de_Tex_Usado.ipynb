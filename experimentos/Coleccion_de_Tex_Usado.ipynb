{
 "cells": [
  {
   "cell_type": "markdown",
   "metadata": {},
   "source": [
    "# Colección de Tex usado "
   ]
  },
  {
   "cell_type": "markdown",
   "metadata": {},
   "source": [
    "## Relacionado con el texto y la notación usada en planeta Tau\n",
    "\n"
   ]
  },
  {
   "cell_type": "markdown",
   "metadata": {},
   "source": [
    "## Relacionado con plots\n",
    "### Lemniscata\n",
    "\n",
    "\n",
    "\n",
    "Bernoulli:\n",
    "\n",
    "$$x = \\frac{a\\cos t}{1 + \\sin^2 t}$$ \n",
    "$$ y = \\frac{a\\sin t \\cos t}{1 + \\sin^2 t}$$\n",
    "\n",
    "$$z=x+iy=\\frac{a}{1 + \\sin^2 t}\\cos t+i\\frac{a\\cos t}{1 + \\sin^2 t}\\sin t$$\n",
    "\n",
    "\n",
    "\n",
    "\n",
    "\n",
    "## La de Bernoulli como suma de exponenciales complejas\n",
    "\n",
    "Ver mas abajo como usé sympy (luego lo verifiqué con wolphram alpha)\n",
    "\n",
    "$$z(t)=\\frac{a}{1 + \\left(\\frac{e^{it}-e^{-it}}{2i}\\right)^2 }\\frac{e^{it}+e^{-it}}{2}+i\\frac{a\\frac{e^{it}+e^{-it}}{2}}{1 + \\left(\\frac{e^{it}-e^{-it}}{2i}\\right)^2}\\frac{e^{it}-e^{-it}}{2i}$$\n",
    "\n",
    "\n",
    "\n",
    "### Una opción aproximada a la lemniscata de Bernoulli con números compás\n",
    "\n",
    "$$\\Theta_{x_+} = \\frac{a}{2} e^{i \\omega_x t}$$\n",
    "$$\\Theta_{y_+} = \\frac{b}{2} e^{i \\omega_y t}$$\n",
    "$$\\Theta_{x_-} = \\frac{a}{2} e^{-i \\omega_x t}$$\n",
    "$$\\Theta_{y_-} = -\\frac{b}{2} e^{-i \\omega_y t}$$\n",
    "$$\\bold{\\dot \\infty} = \\Theta_{x_+} + \\Theta_{x_-} + \\Theta_{y_+} + \\Theta_{y_-}$$\n",
    "\n",
    "\n",
    "\n"
   ]
  },
  {
   "cell_type": "markdown",
   "metadata": {},
   "source": [
    "## Clásicas\n",
    "\n",
    "### Fourier basics\n",
    "\n",
    "$$x(t) = \\sum_{n=-\\infty}^{\\infty}c_n e^{i \\omega nt}$$\n",
    "\n",
    "$$c_n = \\int_{-\\frac{P}{2}}^{\\frac{P}{2}}x(t)e^{-i \\omega nt}dt$$\n",
    "\n",
    "$$\n",
    "\\begin{align*}\n",
    "x[n] &= \\sum_{k=0}^{N-1}c_k e^{i \\omega k n} \\\\\n",
    "c_k &= \\frac{1}{N}\\sum_{n=0}^{N-1}x[n]e^{-i \\omega k n}\n",
    "\\end{align*}\n",
    "$$\n"
   ]
  },
  {
   "cell_type": "markdown",
   "metadata": {},
   "source": []
  },
  {
   "cell_type": "code",
   "execution_count": null,
   "metadata": {},
   "outputs": [],
   "source": []
  },
  {
   "cell_type": "markdown",
   "metadata": {},
   "source": [
    "\n",
    "\n",
    "\n",
    "\n",
    "\n",
    "\n",
    "\n",
    "\n",
    "\n",
    "\n",
    "\n",
    "\n",
    "### Fourier Intro\n",
    "https://dspillustrations.com/pages/posts/misc/the-complex-fourier-series-and-its-relation-to-the-fourier-transform.html\n",
    "\n",
    "La Serie de Fourier y Aproximación Armónica\n",
    "\n",
    "En este artículo, exploraremos los orígenes de la transformada de Fourier: la **Serie de Fourier**. La serie de Fourier toma una señal periódica $x(t)$ y la describe como una suma de ondas seno y coseno. Al notar que el seno y el coseno son funciones periódicas en sí mismas, queda claro que $x(t)$ también es una función periódica.\n",
    "\n",
    "Matemáticamente, la serie de Fourier se describe de la siguiente manera. Sea $x(t)$ una función periódica con período $T$, es decir,\n",
    "\n",
    "$$x(t)=x(t+nT), n\\in\\mathbb{Z}.$$ \n",
    "\n",
    "Entonces, podemos escribir $x(t)$ como una serie de Fourier:\n",
    "\n",
    "$$x(t)=\\frac{a_0}{2}+\\sum_{n=1}^{\\infty}a_n\\cos(2\\pi \\frac{nt}{T})+b_n\\sin(2\\pi\\frac{nt}{T}),$$\n",
    "\n",
    "donde $a_n$ y $b_n$ son los coeficientes de la serie de Fourier. Pueden calcularse como:\n",
    "\n",
    "$$\\begin{align}a_n&=\\frac{2}{T}\\int_0^Tx(t)\\cos(2\\pi \\frac{nt}{T})dt\\\\\n",
    "b_n&=\\frac{2}{T}\\int_0^Tx(t)\\sin(2\\pi \\frac{nt}{T})dt\\end{align}.$$\n",
    "\n",
    "Observa que para una función con período $T$, las frecuencias de los senos y cosenos son $\\frac{1}{T}, \\frac{2}{T}, \\frac{3}{T}, \\dots$, es decir, son múltiplos de la frecuencia fundamental $\\frac{1}{T}$, que es la inversa de la duración del período de la función. Por lo tanto, la frecuencia $\\frac{n}{T}$ se llama el $n$-ésimo *armónico*. El término *armónico* proviene de que, para el oído humano, las frecuencias con razones de enteros suenan \"agradables\", y las frecuencias son múltiplos enteros de la frecuencia fundamental.\n",
    "\n",
    "Verifiquemos el cálculo de los coeficientes de Fourier y la reconstrucción numérica de la función. Primero, definimos algunas funciones con período $T=1$ que queremos expandir en una serie de Fourier:"
   ]
  },
  {
   "cell_type": "markdown",
   "metadata": {},
   "source": [
    "### Serie y Transformada de Fourier Discreta\n",
    "\n",
    "\n",
    "$$\n",
    "\\begin{align*}\n",
    "x[n] &= \\frac{a_0}{2} + \\sum_{k=1}^\\infty a_k\\cos(\\omega k n) + b_k\\sin(\\omega k n) \\\\\n",
    "a_k &= \\frac{2}{N}\\sum_{n=0}^{N-1}x[n]\\cos(\\omega k n) \\\\\n",
    "b_k &= \\frac{2}{N}\\sum_{n=0}^{N-1}x[n]\\sin(\\omega k n)\n",
    "\\end{align*}\n",
    "$$\n",
    "\n",
    "\n",
    "$$\n",
    "\\begin{align*}\n",
    "x[n] &= \\frac{a_0}{2} + \\sum_{k=1}^\\infty A_k\\cos(\\omega k n + \\phi_k) \\\\\n",
    "A_k &= \\sqrt{a_k^2 + b_k^2} \\\\\n",
    "\\phi_k &= \\tan^{-1}\\left(-\\frac{b_k}{a_k}\\right)\n",
    "\\end{align*}\n",
    "$$\n",
    "\n",
    "\n",
    "$$\n",
    "\\begin{align*}\n",
    "x[n] &= \\sum_{k=0}^{N-1}c_k e^{i \\omega k n} \\\\\n",
    "c_k &= \\frac{1}{N}\\sum_{n=0}^{N-1}x[n]e^{-i \\omega k n}\n",
    "\\end{align*}\n",
    "$$\n",
    "\n"
   ]
  },
  {
   "cell_type": "markdown",
   "metadata": {},
   "source": [
    "\n",
    "\n",
    "\n",
    "$$\n",
    "\\begin{align*}\n",
    "x(t) &= \\frac{a_0}{2} + \\sum_{n=1}^\\infty a_n\\cos(\\omega nt) + b_n\\sin(\\omega nt) \\\\\n",
    "a_n &= \\frac{2}{P}\\int_{-\\frac{P}{2}}^\\frac{P}{2}x(t)\\cos(\\omega nt)dt \\\\\n",
    "b_n &= \\frac{2}{P}\\int_{-\\frac{P}{2}}^\\frac{P}{2}x(t)\\sin(\\omega nt)dt\n",
    "\\end{align*}\n",
    "$$\n",
    "\n",
    "\n",
    "$$\n",
    "\\begin{align*}\n",
    "x(t) &= \\frac{a_0}{2} + \\sum_{n=1}^\\infty A_n\\cos(\\omega nt+\\phi_n) \\\\\n",
    "A_n &= \\sqrt{a_n^2 + b_n^2} \\\\\n",
    "\\phi_n &= \\tan^{-1}\\left(-\\frac{b_n}{a_n}\\right)\n",
    "\\end{align*}\n",
    "$$\n",
    "\n",
    "\n",
    "$$\n",
    "\\begin{align*}\n",
    "x(t) &= \\sum_{n=-\\infty}^{\\infty}c_n e^{i \\omega nt} \\\\\n",
    "c_n &= \\int_{-\\frac{P}{2}}^{\\frac{P}{2}}x(t)e^{-i \\omega nt}dt\n",
    "\\end{align*}\n",
    "$$\n",
    "$$\\omega = \\frac{2\\pi}{P}$$\n"
   ]
  },
  {
   "cell_type": "code",
   "execution_count": null,
   "metadata": {},
   "outputs": [],
   "source": []
  },
  {
   "cell_type": "code",
   "execution_count": null,
   "metadata": {},
   "outputs": [],
   "source": []
  }
 ],
 "metadata": {
  "kernelspec": {
   "display_name": "Python 3",
   "language": "python",
   "name": "python3"
  },
  "language_info": {
   "codemirror_mode": {
    "name": "ipython",
    "version": 3
   },
   "file_extension": ".py",
   "mimetype": "text/x-python",
   "name": "python",
   "nbconvert_exporter": "python",
   "pygments_lexer": "ipython3",
   "version": "3.10.12"
  },
  "orig_nbformat": 4
 },
 "nbformat": 4,
 "nbformat_minor": 2
}
